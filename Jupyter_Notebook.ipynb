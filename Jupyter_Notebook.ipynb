{
 "cells": [
  {
   "cell_type": "markdown",
   "metadata": {},
   "source": [
    "<center>\n",
    "    <img src=\"https://s3-api.us-geo.objectstorage.softlayer.net/cf-courses-data/CognitiveClass/Logos/organization_logo/organization_logo.png\" width=\"300\" alt=\"cognitiveclass.ai logo\"  />\n",
    "</center>\n"
   ]
  },
  {
   "cell_type": "markdown",
   "metadata": {},
   "source": [
    "#### Add your code below following the instructions given in the course\n"
   ]
  },
  {
   "cell_type": "markdown",
   "metadata": {},
   "source": [
    "<h1> My Jupyter Notebook on IBM Watson Studio </h1>"
   ]
  },
  {
   "cell_type": "markdown",
   "metadata": {},
   "source": [
    "**Thomas Leonette**\n",
    "Program Manager"
   ]
  },
  {
   "cell_type": "markdown",
   "metadata": {},
   "source": [
    "*I am interested in data science because I have managed multiple technical programs and do not have the understanding I need.  The next position hope to obtain would include overseeing multiple teams of data engineers, data analysts, and data scientist.  Increasing my knowledge of data science should help me become a better leaders.  Additionally, data is  a key aspect of the modern world.  I want to understand how the data is cleaned and analyzed so I have more faith in the recommendations put for by my team's data scientists*"
   ]
  },
  {
   "cell_type": "markdown",
   "metadata": {},
   "source": [
    "### Cell 5 will run the math problem of two plus two."
   ]
  },
  {
   "cell_type": "markdown",
   "metadata": {},
   "source": [
    "Cell 6 will include the following:\n",
    "\n",
    "- Bullet List of Five Items\n",
    "- Horizontal Line\n",
    "- An Example of a Strikethrough\n",
    "- An Example of a Block Quote\n",
    "- Hyperlink for Github\n",
    "\n",
    "---\n",
    "\n",
    "~~This is an example of a strikethrough~~\n",
    "\n",
    "> This is an example of a block quote.  This is an example of a block quote.  This is an example of a block quote.  This is an example of a block quote.  This is an example of a block quote.\n",
    "\n",
    "http://www.github.com"
   ]
  },
  {
   "cell_type": "code",
   "execution_count": null,
   "metadata": {},
   "outputs": [],
   "source": []
  }
 ],
 "metadata": {
  "kernelspec": {
   "display_name": "Python",
   "language": "python",
   "name": "conda-env-python-py"
  },
  "language_info": {
   "codemirror_mode": {
    "name": "ipython",
    "version": 3
   },
   "file_extension": ".py",
   "mimetype": "text/x-python",
   "name": "python",
   "nbconvert_exporter": "python",
   "pygments_lexer": "ipython3",
   "version": "3.7.12"
  }
 },
 "nbformat": 4,
 "nbformat_minor": 4
}
